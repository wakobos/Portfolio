{
 "cells": [
  {
   "cell_type": "markdown",
   "id": "121dab27-073c-4cac-9f31-671836e36c03",
   "metadata": {},
   "source": [
    "#### Testing Methods to Classify Pitch Type"
   ]
  },
  {
   "cell_type": "code",
   "execution_count": 2,
   "id": "4ae6f959-5e4c-4ca5-a07b-1130a1d68408",
   "metadata": {},
   "outputs": [],
   "source": [
    "from pybaseball import statcast_pitcher, playerid_lookup\n",
    "import pandas as pd\n",
    "import seaborn as sns\n",
    "import matplotlib.pyplot as plt"
   ]
  },
  {
   "cell_type": "code",
   "execution_count": 4,
   "id": "6c844a7f-af96-47bc-8ddf-f799452aba5f",
   "metadata": {},
   "outputs": [],
   "source": [
    "#Simple function to create a one-step process to retrieve pitch-level data \n",
    "def get_data(last_name, first_name, start_date, end_date):\n",
    "    id_df = playerid_lookup(last_name, first_name)\n",
    "    id = id_df['key_mlbam'].iloc[0]\n",
    "    data = statcast_pitcher(start_date, end_date, player_id = id)\n",
    "    return data"
   ]
  },
  {
   "cell_type": "markdown",
   "id": "469dbffb-f3fa-46a7-b54b-b90e06653161",
   "metadata": {},
   "source": [
    "### K-Means Clustering"
   ]
  },
  {
   "cell_type": "markdown",
   "id": "a54bdc0c-010e-4287-bf23-db170dfde7c7",
   "metadata": {},
   "source": [
    "+ This first part of the analysis will be clustering based on pitch data from Corbin Burnes' 2021 season. I want to classify pitch type using the most relevent and recent data (up to that point in time) since pitchers are known to adjust their arsenal in the offseason, which could contribute to inaccuracy if pitch shapes did change drastically year over year. "
   ]
  },
  {
   "cell_type": "code",
   "execution_count": 6,
   "id": "a202d55a-5d41-4028-9bcd-5af5131c26e3",
   "metadata": {},
   "outputs": [
    {
     "name": "stdout",
     "output_type": "stream",
     "text": [
      "Gathering player lookup table. This may take a moment.\n",
      "Gathering Player Data\n"
     ]
    }
   ],
   "source": [
    "#retrieving Statcast pitch-level data\n",
    "data = get_data('burnes', 'corbin', '2021-04-01', '2021-10-03')"
   ]
  },
  {
   "cell_type": "code",
   "execution_count": 14,
   "id": "bc75d44d-bed9-470f-824f-30f97e805651",
   "metadata": {},
   "outputs": [
    {
     "data": {
      "text/html": [
       "<div>\n",
       "<style scoped>\n",
       "    .dataframe tbody tr th:only-of-type {\n",
       "        vertical-align: middle;\n",
       "    }\n",
       "\n",
       "    .dataframe tbody tr th {\n",
       "        vertical-align: top;\n",
       "    }\n",
       "\n",
       "    .dataframe thead th {\n",
       "        text-align: right;\n",
       "    }\n",
       "</style>\n",
       "<table border=\"1\" class=\"dataframe\">\n",
       "  <thead>\n",
       "    <tr style=\"text-align: right;\">\n",
       "      <th></th>\n",
       "      <th>pitch_type</th>\n",
       "      <th>release_speed</th>\n",
       "      <th>release_pos_x</th>\n",
       "      <th>release_pos_z</th>\n",
       "      <th>pfx_x</th>\n",
       "      <th>pfx_z</th>\n",
       "      <th>release_spin_rate</th>\n",
       "      <th>release_extension</th>\n",
       "      <th>spin_axis</th>\n",
       "    </tr>\n",
       "  </thead>\n",
       "  <tbody>\n",
       "    <tr>\n",
       "      <th>0</th>\n",
       "      <td>CU</td>\n",
       "      <td>81.4</td>\n",
       "      <td>-0.45</td>\n",
       "      <td>6.11</td>\n",
       "      <td>0.88</td>\n",
       "      <td>-0.31</td>\n",
       "      <td>2747.0</td>\n",
       "      <td>6.5</td>\n",
       "      <td>51.0</td>\n",
       "    </tr>\n",
       "    <tr>\n",
       "      <th>1</th>\n",
       "      <td>CU</td>\n",
       "      <td>81.1</td>\n",
       "      <td>-0.50</td>\n",
       "      <td>6.08</td>\n",
       "      <td>1.08</td>\n",
       "      <td>-0.28</td>\n",
       "      <td>2816.0</td>\n",
       "      <td>6.3</td>\n",
       "      <td>50.0</td>\n",
       "    </tr>\n",
       "    <tr>\n",
       "      <th>2</th>\n",
       "      <td>FC</td>\n",
       "      <td>95.7</td>\n",
       "      <td>-0.78</td>\n",
       "      <td>5.91</td>\n",
       "      <td>0.39</td>\n",
       "      <td>0.97</td>\n",
       "      <td>2764.0</td>\n",
       "      <td>6.4</td>\n",
       "      <td>186.0</td>\n",
       "    </tr>\n",
       "    <tr>\n",
       "      <th>3</th>\n",
       "      <td>FC</td>\n",
       "      <td>95.6</td>\n",
       "      <td>-0.82</td>\n",
       "      <td>5.86</td>\n",
       "      <td>0.35</td>\n",
       "      <td>0.88</td>\n",
       "      <td>2637.0</td>\n",
       "      <td>6.5</td>\n",
       "      <td>184.0</td>\n",
       "    </tr>\n",
       "    <tr>\n",
       "      <th>4</th>\n",
       "      <td>CH</td>\n",
       "      <td>89.8</td>\n",
       "      <td>-0.66</td>\n",
       "      <td>5.74</td>\n",
       "      <td>-1.45</td>\n",
       "      <td>0.55</td>\n",
       "      <td>2006.0</td>\n",
       "      <td>6.6</td>\n",
       "      <td>213.0</td>\n",
       "    </tr>\n",
       "  </tbody>\n",
       "</table>\n",
       "</div>"
      ],
      "text/plain": [
       "  pitch_type  release_speed  release_pos_x  release_pos_z  pfx_x  pfx_z  \\\n",
       "0         CU           81.4          -0.45           6.11   0.88  -0.31   \n",
       "1         CU           81.1          -0.50           6.08   1.08  -0.28   \n",
       "2         FC           95.7          -0.78           5.91   0.39   0.97   \n",
       "3         FC           95.6          -0.82           5.86   0.35   0.88   \n",
       "4         CH           89.8          -0.66           5.74  -1.45   0.55   \n",
       "\n",
       "   release_spin_rate  release_extension  spin_axis  \n",
       "0             2747.0                6.5       51.0  \n",
       "1             2816.0                6.3       50.0  \n",
       "2             2764.0                6.4      186.0  \n",
       "3             2637.0                6.5      184.0  \n",
       "4             2006.0                6.6      213.0  "
      ]
     },
     "execution_count": 14,
     "metadata": {},
     "output_type": "execute_result"
    }
   ],
   "source": [
    "#only selecting pitch-specific columns for our analysis\n",
    "#there were lots of missing values to deprecated fields so this subset eliminates most of those as well\n",
    "pitch_metrics = data[['pitch_type', 'release_speed', 'release_pos_x', 'release_pos_z', 'pfx_x', 'pfx_z', \n",
    "                     'release_spin_rate', 'release_extension', 'spin_axis']].copy()\n",
    "pitch_metrics.head()"
   ]
  },
  {
   "cell_type": "code",
   "execution_count": 16,
   "id": "1f3cc1dc-456d-45e0-a0f6-37ec77b46006",
   "metadata": {},
   "outputs": [],
   "source": [
    "#dropping rows with null values\n",
    "pitch_metrics.dropna(inplace = True)"
   ]
  },
  {
   "cell_type": "code",
   "execution_count": 14,
   "id": "d2b7c729-21e3-4721-b800-59d59c23516b",
   "metadata": {},
   "outputs": [],
   "source": [
    "#removing four-seam fastballs from our data since there were so few observations\n",
    "#clustering was done with FF in the data but it was dispersed into almost every cluster with no clear distinction\n",
    "pitch_metrics_5 = pitch_metrics.loc[pitch_metrics['pitch_type'] != 'FF'].copy()"
   ]
  },
  {
   "cell_type": "code",
   "execution_count": 16,
   "id": "4e7e6a89-d55a-44a3-8527-0c376dc6ee5e",
   "metadata": {},
   "outputs": [],
   "source": [
    "#scaling data as required for K-Means clustering\n",
    "from sklearn.preprocessing import StandardScaler\n",
    "scaler = StandardScaler()\n",
    "scaled_pitch_metrics = scaler.fit_transform(pitch_metrics_5[['release_speed', 'release_pos_x', 'release_pos_z', 'pfx_x', 'pfx_z', \n",
    "                                                           'release_spin_rate', 'release_extension', 'spin_axis']])"
   ]
  },
  {
   "cell_type": "code",
   "execution_count": 18,
   "id": "1c8ef471-5e8b-43c0-8700-74683974dbc9",
   "metadata": {},
   "outputs": [],
   "source": [
    "#the scaled data was a numpy array, so it must be converting back into a pandas dataframe\n",
    "scaled_pitch_metrics = pd.DataFrame(scaled_pitch_metrics, columns=['release_speed', 'release_pos_x', 'release_pos_z', \n",
    "                                                                    'pfx_x', 'pfx_z', 'release_spin_rate', 'release_extension', \n",
    "                                                                   'spin_axis'])"
   ]
  },
  {
   "cell_type": "code",
   "execution_count": 20,
   "id": "3a962626-2af6-4b82-aae0-3e941ee17328",
   "metadata": {},
   "outputs": [
    {
     "data": {
      "text/plain": [
       "Text(0.5, 1.0, 'Fig : Elbow Diagram')"
      ]
     },
     "execution_count": 20,
     "metadata": {},
     "output_type": "execute_result"
    },
    {
     "data": {
      "image/png": "[encoded data removed]",
      "text/plain": [
       "<Figure size 600x400 with 1 Axes>"
      ]
     },
     "metadata": {},
     "output_type": "display_data"
    }
   ],
   "source": [
    "#generating an elbow diagram to show the best number of clusters\n",
    "#this lines up perfectly with what we know about our data, since there are 5 pitches other than four-seam\n",
    "# fastball thrown by Burnes\n",
    "from sklearn.cluster import KMeans\n",
    "cluster_range = range(1, 10)\n",
    "cluster_errors = []\n",
    "for num_clusters in cluster_range:\n",
    "    clusters = KMeans(num_clusters)\n",
    "    clusters.fit(scaled_pitch_metrics)\n",
    "    cluster_errors.append(clusters.inertia_)\n",
    "plt.figure(figsize=(6,4))\n",
    "plt.plot(cluster_range, cluster_errors, marker = \"o\")\n",
    "plt.title( \"Fig : Elbow Diagram\")"
   ]
  },
  {
   "cell_type": "code",
   "execution_count": 22,
   "id": "85499fd8-f108-4da6-9051-15ca84bb1e3d",
   "metadata": {},
   "outputs": [],
   "source": [
    "#setting our k value, fitting our data, and adding a column to our dataframe that includes cluster label\n",
    "k = 5\n",
    "clusters = KMeans(k, random_state = 42)\n",
    "clusters.fit(scaled_pitch_metrics)\n",
    "pitch_metrics_5['clusterid'] = clusters.labels_"
   ]
  },
  {
   "cell_type": "code",
   "execution_count": 26,
   "id": "31c96fc8-5d7a-4c15-b623-04fe2ca91b1a",
   "metadata": {},
   "outputs": [
    {
     "data": {
      "text/plain": [
       "pitch_type\n",
       "SL    217\n",
       "FC      7\n",
       "CU      2\n",
       "Name: count, dtype: int64"
      ]
     },
     "execution_count": 26,
     "metadata": {},
     "output_type": "execute_result"
    }
   ],
   "source": [
    "#displaying results for cluster 0\n",
    "cluster_0 = pitch_metrics_5.loc[pitch_metrics_5['clusterid'] == 0]\n",
    "cluster_0['pitch_type'].value_counts()"
   ]
  },
  {
   "cell_type": "code",
   "execution_count": 28,
   "id": "ece9ddff-1528-41e0-aa29-f67d25f40369",
   "metadata": {},
   "outputs": [
    {
     "data": {
      "text/plain": [
       "pitch_type\n",
       "FC    609\n",
       "SI    194\n",
       "SL      1\n",
       "Name: count, dtype: int64"
      ]
     },
     "execution_count": 28,
     "metadata": {},
     "output_type": "execute_result"
    }
   ],
   "source": [
    "##displaying results for cluster 1\n",
    "cluster_1 = pitch_metrics_5.loc[pitch_metrics_5['clusterid'] == 1]\n",
    "cluster_1['pitch_type'].value_counts()"
   ]
  },
  {
   "cell_type": "code",
   "execution_count": 30,
   "id": "757ff5c6-cfdd-4286-8d1c-6c597548da77",
   "metadata": {},
   "outputs": [
    {
     "data": {
      "text/plain": [
       "pitch_type\n",
       "CU    471\n",
       "SL      2\n",
       "Name: count, dtype: int64"
      ]
     },
     "execution_count": 30,
     "metadata": {},
     "output_type": "execute_result"
    }
   ],
   "source": [
    "##displaying results for cluster 2\n",
    "cluster_2 = pitch_metrics_5.loc[pitch_metrics_5['clusterid'] == 2]\n",
    "cluster_2['pitch_type'].value_counts()"
   ]
  },
  {
   "cell_type": "code",
   "execution_count": 32,
   "id": "f998c64b-f8a6-42cd-a552-15a753f9ed80",
   "metadata": {},
   "outputs": [
    {
     "data": {
      "text/plain": [
       "pitch_type\n",
       "CH    248\n",
       "SL      6\n",
       "SI      2\n",
       "FC      2\n",
       "Name: count, dtype: int64"
      ]
     },
     "execution_count": 32,
     "metadata": {},
     "output_type": "execute_result"
    }
   ],
   "source": [
    "##displaying results for cluster 3\n",
    "cluster_3 = pitch_metrics_5.loc[pitch_metrics_5['clusterid'] == 3]\n",
    "cluster_3['pitch_type'].value_counts()"
   ]
  },
  {
   "cell_type": "code",
   "execution_count": 34,
   "id": "53d62a5d-5e52-46c8-b24f-b6fe9a6ca85e",
   "metadata": {
    "scrolled": true
   },
   "outputs": [
    {
     "data": {
      "text/plain": [
       "pitch_type\n",
       "FC    733\n",
       "SI     37\n",
       "SL     12\n",
       "Name: count, dtype: int64"
      ]
     },
     "execution_count": 34,
     "metadata": {},
     "output_type": "execute_result"
    }
   ],
   "source": [
    "##displaying results for cluster 4\n",
    "cluster_4 = pitch_metrics_5.loc[pitch_metrics_5['clusterid'] == 4]\n",
    "cluster_4['pitch_type'].value_counts()"
   ]
  },
  {
   "cell_type": "markdown",
   "id": "2e498fbb-df52-463b-ae36-501f5cf79986",
   "metadata": {},
   "source": [
    "### Hierarchical Clustering"
   ]
  },
  {
   "cell_type": "code",
   "execution_count": 38,
   "id": "561b16e4-9718-4aa4-a318-f58de5d41053",
   "metadata": {},
   "outputs": [],
   "source": [
    "from sklearn.cluster import AgglomerativeClustering"
   ]
  },
  {
   "cell_type": "code",
   "execution_count": 40,
   "id": "89ba1063-2465-48e4-b024-09101ad050e3",
   "metadata": {},
   "outputs": [],
   "source": [
    "#setting our k value, fitting our data, and adding a column to our dataframe that includes cluster label\n",
    "h_clusters = AgglomerativeClustering(5)\n",
    "h_clusters.fit(scaled_pitch_metrics)\n",
    "pitch_metrics_5['h_clusterid'] = h_clusters.labels_"
   ]
  },
  {
   "cell_type": "code",
   "execution_count": 42,
   "id": "99ed956f-9ece-40ac-95f4-921c4e7a32b2",
   "metadata": {},
   "outputs": [
    {
     "data": {
      "text/plain": [
       "pitch_type\n",
       "FC    1351\n",
       "CU     473\n",
       "CH     248\n",
       "SL     238\n",
       "SI     233\n",
       "Name: count, dtype: int64"
      ]
     },
     "execution_count": 42,
     "metadata": {},
     "output_type": "execute_result"
    }
   ],
   "source": [
    "pitch_metrics_5['pitch_type'].value_counts()"
   ]
  },
  {
   "cell_type": "code",
   "execution_count": 44,
   "id": "cef19a18-8099-41bb-8566-45098fc5dd56",
   "metadata": {},
   "outputs": [
    {
     "data": {
      "text/plain": [
       "pitch_type\n",
       "FC    1340\n",
       "SL       8\n",
       "CU       2\n",
       "Name: count, dtype: int64"
      ]
     },
     "execution_count": 44,
     "metadata": {},
     "output_type": "execute_result"
    }
   ],
   "source": [
    "#displaying results for h_cluster 0\n",
    "hcluster_0 = pitch_metrics_5.loc[pitch_metrics_5['h_clusterid'] == 0]\n",
    "hcluster_0['pitch_type'].value_counts()"
   ]
  },
  {
   "cell_type": "code",
   "execution_count": 46,
   "id": "3f730478-ab99-499c-8c2f-c99c6f1a67f4",
   "metadata": {},
   "outputs": [
    {
     "data": {
      "text/plain": [
       "pitch_type\n",
       "CU    469\n",
       "SL      1\n",
       "Name: count, dtype: int64"
      ]
     },
     "execution_count": 46,
     "metadata": {},
     "output_type": "execute_result"
    }
   ],
   "source": [
    "#displaying results for h_cluster 1\n",
    "hcluster_1= pitch_metrics_5.loc[pitch_metrics_5['h_clusterid'] == 1]\n",
    "hcluster_1['pitch_type'].value_counts()"
   ]
  },
  {
   "cell_type": "code",
   "execution_count": 48,
   "id": "bca066a5-acd4-41f8-afa2-72d8e3ed40ec",
   "metadata": {},
   "outputs": [
    {
     "data": {
      "text/plain": [
       "pitch_type\n",
       "CH    248\n",
       "SL      7\n",
       "CU      2\n",
       "FC      2\n",
       "Name: count, dtype: int64"
      ]
     },
     "execution_count": 48,
     "metadata": {},
     "output_type": "execute_result"
    }
   ],
   "source": [
    "#displaying results for h_cluster 2\n",
    "hcluster_2 = pitch_metrics_5.loc[pitch_metrics_5['h_clusterid'] == 2]\n",
    "hcluster_2['pitch_type'].value_counts()"
   ]
  },
  {
   "cell_type": "code",
   "execution_count": 50,
   "id": "ee78bc27-548c-4d4d-8552-745156e0001e",
   "metadata": {},
   "outputs": [
    {
     "data": {
      "text/plain": [
       "pitch_type\n",
       "SL    222\n",
       "FC      9\n",
       "Name: count, dtype: int64"
      ]
     },
     "execution_count": 50,
     "metadata": {},
     "output_type": "execute_result"
    }
   ],
   "source": [
    "#displaying results for h_cluster 3\n",
    "hcluster_3 = pitch_metrics_5.loc[pitch_metrics_5['h_clusterid'] == 3]\n",
    "hcluster_3['pitch_type'].value_counts()"
   ]
  },
  {
   "cell_type": "code",
   "execution_count": 52,
   "id": "bec08a4f-9985-4e50-98ac-115c4e02efef",
   "metadata": {},
   "outputs": [
    {
     "data": {
      "text/plain": [
       "pitch_type\n",
       "SI    233\n",
       "Name: count, dtype: int64"
      ]
     },
     "execution_count": 52,
     "metadata": {},
     "output_type": "execute_result"
    }
   ],
   "source": [
    "#displaying results for h_cluster 4\n",
    "hcluster_4 = pitch_metrics_5.loc[pitch_metrics_5['h_clusterid'] == 4]\n",
    "hcluster_4['pitch_type'].value_counts()"
   ]
  },
  {
   "cell_type": "markdown",
   "id": "71101d55-a565-448d-8987-da106a78202c",
   "metadata": {},
   "source": [
    "### Conclusion"
   ]
  },
  {
   "cell_type": "markdown",
   "id": "06d7d39b-ed0b-4129-9c27-d16c6671e5fa",
   "metadata": {},
   "source": [
    "+ Overall, there is a much clearer distinction between pitches when using the hierarchical clustering method as this method handles clustering where the shape of the clusters is more variable.\n",
    "+ The H-Clusters have a better distinction of pitch type, as shown by each category having an overwhelming majority of a single pitch type and only a few mislabeled pitches. Curveballs were clustered almost perfectly, which makes sense given their spin direction and pfx_z (vertical movement) is much different than the other pitches.\n",
    "+ Cutters (FC) and sliders (SL) were the hardest to single out. The movement profiles and velocities are somewhat similar. Plotting different variables could give a clearer picture as to the degree to which these pitches can blend together.\n",
    "+ The K-Means clustering generated much greater confusion, with much more variabiity in each cluster. It had greater success with curveballs for the same reasons as mentioned above. "
   ]
  }
 ],
 "metadata": {
  "kernelspec": {
   "display_name": "Python (Anaconda Base)",
   "language": "python",
   "name": "base"
  },
  "language_info": {
   "codemirror_mode": {
    "name": "ipython",
    "version": 3
   },
   "file_extension": ".py",
   "mimetype": "text/x-python",
   "name": "python",
   "nbconvert_exporter": "python",
   "pygments_lexer": "ipython3",
   "version": "3.12.4"
  }
 },
 "nbformat": 4,
 "nbformat_minor": 5
}
